{
 "cells": [
  {
   "cell_type": "code",
   "execution_count": 1,
   "id": "7d1d8163-bd0a-4824-ab63-20171293a9bb",
   "metadata": {},
   "outputs": [],
   "source": [
    "import pandas as pd"
   ]
  },
  {
   "cell_type": "code",
   "execution_count": 17,
   "id": "7273e88d-0948-4d9a-a293-607f53d84515",
   "metadata": {},
   "outputs": [
    {
     "data": {
      "text/html": [
       "<div>\n",
       "<style scoped>\n",
       "    .dataframe tbody tr th:only-of-type {\n",
       "        vertical-align: middle;\n",
       "    }\n",
       "\n",
       "    .dataframe tbody tr th {\n",
       "        vertical-align: top;\n",
       "    }\n",
       "\n",
       "    .dataframe thead th {\n",
       "        text-align: right;\n",
       "    }\n",
       "</style>\n",
       "<table border=\"1\" class=\"dataframe\">\n",
       "  <thead>\n",
       "    <tr style=\"text-align: right;\">\n",
       "      <th></th>\n",
       "      <th>gender</th>\n",
       "      <th>race/ethnicity</th>\n",
       "      <th>parental level of education</th>\n",
       "      <th>lunch</th>\n",
       "      <th>test preparation course</th>\n",
       "      <th>math score</th>\n",
       "      <th>reading score</th>\n",
       "      <th>writing score</th>\n",
       "    </tr>\n",
       "  </thead>\n",
       "  <tbody>\n",
       "    <tr>\n",
       "      <th>0</th>\n",
       "      <td>female</td>\n",
       "      <td>group B</td>\n",
       "      <td>bachelor's degree</td>\n",
       "      <td>standard</td>\n",
       "      <td>none</td>\n",
       "      <td>72</td>\n",
       "      <td>72</td>\n",
       "      <td>74</td>\n",
       "    </tr>\n",
       "    <tr>\n",
       "      <th>1</th>\n",
       "      <td>female</td>\n",
       "      <td>group C</td>\n",
       "      <td>some college</td>\n",
       "      <td>standard</td>\n",
       "      <td>completed</td>\n",
       "      <td>69</td>\n",
       "      <td>90</td>\n",
       "      <td>88</td>\n",
       "    </tr>\n",
       "    <tr>\n",
       "      <th>2</th>\n",
       "      <td>female</td>\n",
       "      <td>group B</td>\n",
       "      <td>master's degree</td>\n",
       "      <td>standard</td>\n",
       "      <td>none</td>\n",
       "      <td>90</td>\n",
       "      <td>95</td>\n",
       "      <td>93</td>\n",
       "    </tr>\n",
       "    <tr>\n",
       "      <th>3</th>\n",
       "      <td>male</td>\n",
       "      <td>group A</td>\n",
       "      <td>associate's degree</td>\n",
       "      <td>free/reduced</td>\n",
       "      <td>none</td>\n",
       "      <td>47</td>\n",
       "      <td>57</td>\n",
       "      <td>44</td>\n",
       "    </tr>\n",
       "    <tr>\n",
       "      <th>4</th>\n",
       "      <td>male</td>\n",
       "      <td>group C</td>\n",
       "      <td>some college</td>\n",
       "      <td>standard</td>\n",
       "      <td>none</td>\n",
       "      <td>76</td>\n",
       "      <td>78</td>\n",
       "      <td>75</td>\n",
       "    </tr>\n",
       "    <tr>\n",
       "      <th>...</th>\n",
       "      <td>...</td>\n",
       "      <td>...</td>\n",
       "      <td>...</td>\n",
       "      <td>...</td>\n",
       "      <td>...</td>\n",
       "      <td>...</td>\n",
       "      <td>...</td>\n",
       "      <td>...</td>\n",
       "    </tr>\n",
       "    <tr>\n",
       "      <th>995</th>\n",
       "      <td>female</td>\n",
       "      <td>group E</td>\n",
       "      <td>master's degree</td>\n",
       "      <td>standard</td>\n",
       "      <td>completed</td>\n",
       "      <td>88</td>\n",
       "      <td>99</td>\n",
       "      <td>95</td>\n",
       "    </tr>\n",
       "    <tr>\n",
       "      <th>996</th>\n",
       "      <td>male</td>\n",
       "      <td>group C</td>\n",
       "      <td>high school</td>\n",
       "      <td>free/reduced</td>\n",
       "      <td>none</td>\n",
       "      <td>62</td>\n",
       "      <td>55</td>\n",
       "      <td>55</td>\n",
       "    </tr>\n",
       "    <tr>\n",
       "      <th>997</th>\n",
       "      <td>female</td>\n",
       "      <td>group C</td>\n",
       "      <td>high school</td>\n",
       "      <td>free/reduced</td>\n",
       "      <td>completed</td>\n",
       "      <td>59</td>\n",
       "      <td>71</td>\n",
       "      <td>65</td>\n",
       "    </tr>\n",
       "    <tr>\n",
       "      <th>998</th>\n",
       "      <td>female</td>\n",
       "      <td>group D</td>\n",
       "      <td>some college</td>\n",
       "      <td>standard</td>\n",
       "      <td>completed</td>\n",
       "      <td>68</td>\n",
       "      <td>78</td>\n",
       "      <td>77</td>\n",
       "    </tr>\n",
       "    <tr>\n",
       "      <th>999</th>\n",
       "      <td>female</td>\n",
       "      <td>group D</td>\n",
       "      <td>some college</td>\n",
       "      <td>free/reduced</td>\n",
       "      <td>none</td>\n",
       "      <td>77</td>\n",
       "      <td>86</td>\n",
       "      <td>86</td>\n",
       "    </tr>\n",
       "  </tbody>\n",
       "</table>\n",
       "<p>1000 rows × 8 columns</p>\n",
       "</div>"
      ],
      "text/plain": [
       "     gender race/ethnicity parental level of education         lunch  \\\n",
       "0    female        group B           bachelor's degree      standard   \n",
       "1    female        group C                some college      standard   \n",
       "2    female        group B             master's degree      standard   \n",
       "3      male        group A          associate's degree  free/reduced   \n",
       "4      male        group C                some college      standard   \n",
       "..      ...            ...                         ...           ...   \n",
       "995  female        group E             master's degree      standard   \n",
       "996    male        group C                 high school  free/reduced   \n",
       "997  female        group C                 high school  free/reduced   \n",
       "998  female        group D                some college      standard   \n",
       "999  female        group D                some college  free/reduced   \n",
       "\n",
       "    test preparation course  math score  reading score  writing score  \n",
       "0                      none          72             72             74  \n",
       "1                 completed          69             90             88  \n",
       "2                      none          90             95             93  \n",
       "3                      none          47             57             44  \n",
       "4                      none          76             78             75  \n",
       "..                      ...         ...            ...            ...  \n",
       "995               completed          88             99             95  \n",
       "996                    none          62             55             55  \n",
       "997               completed          59             71             65  \n",
       "998               completed          68             78             77  \n",
       "999                    none          77             86             86  \n",
       "\n",
       "[1000 rows x 8 columns]"
      ]
     },
     "execution_count": 17,
     "metadata": {},
     "output_type": "execute_result"
    }
   ],
   "source": [
    "dataset = pd.read_csv('StudentsPerformance.csv')\n",
    "dataset"
   ]
  },
  {
   "cell_type": "code",
   "execution_count": 18,
   "id": "647009f5-39b8-4632-9e44-3762a1c7ddbc",
   "metadata": {},
   "outputs": [
    {
     "data": {
      "text/plain": [
       "(1000, 8)"
      ]
     },
     "execution_count": 18,
     "metadata": {},
     "output_type": "execute_result"
    }
   ],
   "source": [
    "dataset.shape"
   ]
  },
  {
   "cell_type": "code",
   "execution_count": 19,
   "id": "04c8cc74-f87b-4e6c-9f13-53c5cc396953",
   "metadata": {},
   "outputs": [
    {
     "data": {
      "text/plain": [
       "8000"
      ]
     },
     "execution_count": 19,
     "metadata": {},
     "output_type": "execute_result"
    }
   ],
   "source": [
    "dataset.size"
   ]
  },
  {
   "cell_type": "code",
   "execution_count": 20,
   "id": "7cc83afd-3d84-4031-915e-096cdeebbcb0",
   "metadata": {},
   "outputs": [
    {
     "data": {
      "text/plain": [
       "Index(['gender', 'race/ethnicity', 'parental level of education', 'lunch',\n",
       "       'test preparation course', 'math score', 'reading score',\n",
       "       'writing score'],\n",
       "      dtype='object')"
      ]
     },
     "execution_count": 20,
     "metadata": {},
     "output_type": "execute_result"
    }
   ],
   "source": [
    "dataset.columns"
   ]
  },
  {
   "cell_type": "code",
   "execution_count": 21,
   "id": "da8454f5-7487-4d48-bf08-b650bf2ea8ba",
   "metadata": {},
   "outputs": [
    {
     "data": {
      "text/html": [
       "<div>\n",
       "<style scoped>\n",
       "    .dataframe tbody tr th:only-of-type {\n",
       "        vertical-align: middle;\n",
       "    }\n",
       "\n",
       "    .dataframe tbody tr th {\n",
       "        vertical-align: top;\n",
       "    }\n",
       "\n",
       "    .dataframe thead th {\n",
       "        text-align: right;\n",
       "    }\n",
       "</style>\n",
       "<table border=\"1\" class=\"dataframe\">\n",
       "  <thead>\n",
       "    <tr style=\"text-align: right;\">\n",
       "      <th></th>\n",
       "      <th>math score</th>\n",
       "      <th>reading score</th>\n",
       "      <th>writing score</th>\n",
       "    </tr>\n",
       "  </thead>\n",
       "  <tbody>\n",
       "    <tr>\n",
       "      <th>count</th>\n",
       "      <td>1000.00000</td>\n",
       "      <td>1000.000000</td>\n",
       "      <td>1000.000000</td>\n",
       "    </tr>\n",
       "    <tr>\n",
       "      <th>mean</th>\n",
       "      <td>66.08900</td>\n",
       "      <td>69.169000</td>\n",
       "      <td>68.054000</td>\n",
       "    </tr>\n",
       "    <tr>\n",
       "      <th>std</th>\n",
       "      <td>15.16308</td>\n",
       "      <td>14.600192</td>\n",
       "      <td>15.195657</td>\n",
       "    </tr>\n",
       "    <tr>\n",
       "      <th>min</th>\n",
       "      <td>0.00000</td>\n",
       "      <td>17.000000</td>\n",
       "      <td>10.000000</td>\n",
       "    </tr>\n",
       "    <tr>\n",
       "      <th>25%</th>\n",
       "      <td>57.00000</td>\n",
       "      <td>59.000000</td>\n",
       "      <td>57.750000</td>\n",
       "    </tr>\n",
       "    <tr>\n",
       "      <th>50%</th>\n",
       "      <td>66.00000</td>\n",
       "      <td>70.000000</td>\n",
       "      <td>69.000000</td>\n",
       "    </tr>\n",
       "    <tr>\n",
       "      <th>75%</th>\n",
       "      <td>77.00000</td>\n",
       "      <td>79.000000</td>\n",
       "      <td>79.000000</td>\n",
       "    </tr>\n",
       "    <tr>\n",
       "      <th>max</th>\n",
       "      <td>100.00000</td>\n",
       "      <td>100.000000</td>\n",
       "      <td>100.000000</td>\n",
       "    </tr>\n",
       "  </tbody>\n",
       "</table>\n",
       "</div>"
      ],
      "text/plain": [
       "       math score  reading score  writing score\n",
       "count  1000.00000    1000.000000    1000.000000\n",
       "mean     66.08900      69.169000      68.054000\n",
       "std      15.16308      14.600192      15.195657\n",
       "min       0.00000      17.000000      10.000000\n",
       "25%      57.00000      59.000000      57.750000\n",
       "50%      66.00000      70.000000      69.000000\n",
       "75%      77.00000      79.000000      79.000000\n",
       "max     100.00000     100.000000     100.000000"
      ]
     },
     "execution_count": 21,
     "metadata": {},
     "output_type": "execute_result"
    }
   ],
   "source": [
    "dataset.describe()"
   ]
  },
  {
   "cell_type": "markdown",
   "id": "81f880d9-6263-4744-a0a4-954b51de5d4b",
   "metadata": {},
   "source": [
    "# Total Score\n"
   ]
  },
  {
   "cell_type": "markdown",
   "id": "32217c2b-0754-479f-96c1-4daaa86fc52d",
   "metadata": {},
   "source": [
    "total_score = math + reading + writing"
   ]
  },
  {
   "cell_type": "code",
   "execution_count": 22,
   "id": "8507dc27-e68a-430d-b2a0-b79e6360a7b9",
   "metadata": {},
   "outputs": [],
   "source": [
    "# Create a column named total_score \n",
    "dataset['total_score'] = dataset['math score']+dataset['reading score']+dataset['writing score']"
   ]
  },
  {
   "cell_type": "code",
   "execution_count": 49,
   "id": "e1aa9e74-7398-40a5-b331-34d2ca20f980",
   "metadata": {},
   "outputs": [
    {
     "name": "stdout",
     "output_type": "stream",
     "text": [
      "There are 1000 rows and 10 columns in this dataset\n"
     ]
    }
   ],
   "source": [
    "print(f'There are {dataset.shape[0]} rows and {dataset.shape[1]} columns in this dataset')"
   ]
  },
  {
   "cell_type": "markdown",
   "id": "6c9ffeb9-eacb-4e5a-b660-025fee781f25",
   "metadata": {},
   "source": [
    "# Average score "
   ]
  },
  {
   "cell_type": "markdown",
   "id": "34896196-9e8a-411c-be94-41e44a18aef5",
   "metadata": {},
   "source": [
    "average_score = total_score / 3"
   ]
  },
  {
   "cell_type": "code",
   "execution_count": 24,
   "id": "af04b452-46dc-4840-a879-9687201db781",
   "metadata": {},
   "outputs": [],
   "source": [
    "dataset['average_score'] = dataset['total_score']/3"
   ]
  },
  {
   "cell_type": "code",
   "execution_count": 25,
   "id": "57d9017b-9e4a-45c0-9219-14f349db57a2",
   "metadata": {},
   "outputs": [
    {
     "data": {
      "text/plain": [
       "(1000, 10)"
      ]
     },
     "execution_count": 25,
     "metadata": {},
     "output_type": "execute_result"
    }
   ],
   "source": [
    "dataset.shape"
   ]
  },
  {
   "cell_type": "markdown",
   "id": "5162116b-7177-4fbb-bc3a-2d88c5ed64e2",
   "metadata": {},
   "source": [
    "# Null or duplicated"
   ]
  },
  {
   "cell_type": "code",
   "execution_count": 29,
   "id": "f5c1cc96-f6b5-4b56-bba4-08f5b2fdec15",
   "metadata": {},
   "outputs": [
    {
     "name": "stdout",
     "output_type": "stream",
     "text": [
      "There are no null values are there in the dataset\n"
     ]
    }
   ],
   "source": [
    "# Check is there any null value present in dataset\n",
    "dataset.isnull().sum()\n",
    "print('There are no null values are there in the dataset')"
   ]
  },
  {
   "cell_type": "code",
   "execution_count": 30,
   "id": "455d6332-5c79-4c11-8daf-705931fc39fb",
   "metadata": {},
   "outputs": [
    {
     "name": "stdout",
     "output_type": "stream",
     "text": [
      "There are no diplucated values in the dataset.\n"
     ]
    }
   ],
   "source": [
    "# show the duplicated values\n",
    "dataset.duplicated().sum()\n",
    "print('There are no diplucated values in the dataset.')"
   ]
  },
  {
   "cell_type": "markdown",
   "id": "0966cf48-f842-4746-93c9-33c8007da272",
   "metadata": {},
   "source": [
    "# Pass ratio and fail ratio of students "
   ]
  },
  {
   "cell_type": "code",
   "execution_count": 34,
   "id": "1283ed36-a97c-462a-b907-8b35f826ec41",
   "metadata": {},
   "outputs": [
    {
     "name": "stdout",
     "output_type": "stream",
     "text": [
      "There are 1.7999999999999972% of students failed and 98.2% passed.\n"
     ]
    }
   ],
   "source": [
    "# pass -> avg_score > 36.0\n",
    "total_students = dataset.shape[0]\n",
    "passed_students = dataset[dataset['average_score']>=36].shape[0]\n",
    "failed_students = total_students - passed_students\n",
    "passed_students_percentage = (passed_students/total_students)*100\n",
    "failed_students_percentage = 100 - passed_students_percentage\n",
    "print(f'There are {failed_students_percentage}% of students failed and {passed_students_percentage}% passed.')"
   ]
  },
  {
   "cell_type": "markdown",
   "id": "b00b53c7-0563-437e-9433-ddf3d3869c12",
   "metadata": {},
   "source": [
    "# Out of all students how mant girls passed or failed and how many boys passed or failed."
   ]
  },
  {
   "cell_type": "markdown",
   "id": "6eca396f-2f1a-4df0-b566-58b1fe15223c",
   "metadata": {},
   "source": [
    "1. Girls statistics "
   ]
  },
  {
   "cell_type": "code",
   "execution_count": 46,
   "id": "41df1461-2836-4bc4-9a53-8b9ddfbff708",
   "metadata": {},
   "outputs": [
    {
     "name": "stdout",
     "output_type": "stream",
     "text": [
      "There were 518 girls were enrolled in the course  , outof which 506 were passed and 12 failed . \n"
     ]
    }
   ],
   "source": [
    "# Total girls out of 1000 students.\n",
    "girls_data =  dataset[dataset['gender']=='female']\n",
    "total_girls = girls_data.shape[0]\n",
    "passed_girls = girls_data[girls_data['average_score']>36].shape[0]\n",
    "failed_girls = total_girls - passed_girls\n",
    "print(f'There were {total_girls} girls were enrolled in the course  , outof which {passed_girls} were passed and {failed_girls} failed.')"
   ]
  },
  {
   "cell_type": "markdown",
   "id": "f58c60a8-dede-4a2c-bce9-765fe917d36c",
   "metadata": {},
   "source": [
    "2. Boys statistics"
   ]
  },
  {
   "cell_type": "code",
   "execution_count": 47,
   "id": "01e4e818-6a78-4147-b7f2-b434aa7414f0",
   "metadata": {},
   "outputs": [
    {
     "name": "stdout",
     "output_type": "stream",
     "text": [
      "There were 482 boys were enrolled in the course  , outof which 476 were passed and 6 failed.\n"
     ]
    }
   ],
   "source": [
    "boys_data =  dataset[dataset['gender']=='male']\n",
    "total_boys = boys_data.shape[0]\n",
    "passed_boys =boys_data[boys_data['average_score']>36].shape[0]\n",
    "failed_boys = total_boys - passed_boys\n",
    "print(f'There were {total_boys} boys were enrolled in the course  , outof which {passed_boys} were passed and {failed_boys} failed.')"
   ]
  },
  {
   "cell_type": "markdown",
   "id": "65f3cc33-8428-4e61-9847-ef71516b3d2f",
   "metadata": {},
   "source": [
    "# Who performed better, male students or female students"
   ]
  },
  {
   "cell_type": "code",
   "execution_count": 48,
   "id": "a471bd49-878f-40fb-8837-053ddfe0d1c4",
   "metadata": {},
   "outputs": [
    {
     "name": "stdout",
     "output_type": "stream",
     "text": [
      "Boys performed better than girls.\n"
     ]
    }
   ],
   "source": [
    "percentage_boys_passed = (passed_boys/total_boys)*100\n",
    "percentage_girls_passed = (passed_girls/total_girls)*100\n",
    "if percentage_boys_passed > percentage_girls_passed:\n",
    "    print('Boys performed better than girls.')\n",
    "else:\n",
    "    print('Girls performed better than boys.')"
   ]
  },
  {
   "cell_type": "markdown",
   "id": "60debfb8-3826-4be3-ac1d-0f679687ca5e",
   "metadata": {},
   "source": [
    "# Impact of the reading score on the student's maths score."
   ]
  },
  {
   "cell_type": "code",
   "execution_count": 55,
   "id": "fbb7e718-71f0-4c4d-ac25-fd1da7a53a51",
   "metadata": {},
   "outputs": [
    {
     "name": "stdout",
     "output_type": "stream",
     "text": [
      "Correlation between students maths score and readig score is 0.817580\n",
      "Conclusion :- Students who perform well in reading also tend to perform well in math, indicating a strong positive correlation between the two skills\n"
     ]
    }
   ],
   "source": [
    "corr = dataset['reading score'].corr(dataset['math score'])\n",
    "print(f'Correlation between students maths score and readig score is {corr:2f}')\n",
    "print('Conclusion :- Students who perform well in reading also tend to perform well in math, indicating a strong positive correlation between the two skills')"
   ]
  }
 ],
 "metadata": {
  "kernelspec": {
   "display_name": "Python 3 (ipykernel)",
   "language": "python",
   "name": "python3"
  },
  "language_info": {
   "codemirror_mode": {
    "name": "ipython",
    "version": 3
   },
   "file_extension": ".py",
   "mimetype": "text/x-python",
   "name": "python",
   "nbconvert_exporter": "python",
   "pygments_lexer": "ipython3",
   "version": "3.13.2"
  }
 },
 "nbformat": 4,
 "nbformat_minor": 5
}
